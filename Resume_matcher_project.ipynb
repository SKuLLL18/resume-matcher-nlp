{
  "nbformat": 4,
  "nbformat_minor": 0,
  "metadata": {
    "colab": {
      "provenance": []
    },
    "kernelspec": {
      "name": "python3",
      "display_name": "Python 3"
    },
    "language_info": {
      "name": "python"
    }
  },
  "cells": [
    {
      "cell_type": "code",
      "execution_count": null,
      "metadata": {
        "colab": {
          "base_uri": "https://localhost:8080/"
        },
        "id": "S4_6NdAmchrg",
        "outputId": "60733e8a-a4fd-468c-9a90-f2f889b4e217"
      },
      "outputs": [
        {
          "output_type": "stream",
          "name": "stdout",
          "text": [
            "Similarity with Resume 1: 0.0\n",
            "Similarity with Resume 2: 0.1397754774224846\n",
            "Similarity with Resume 2: 0.41137791133379403\n"
          ]
        },
        {
          "output_type": "stream",
          "name": "stderr",
          "text": [
            "[nltk_data] Downloading package punkt to /root/nltk_data...\n",
            "[nltk_data]   Package punkt is already up-to-date!\n"
          ]
        }
      ],
      "source": [
        "!pip install -q nltk scikit-learn\n",
        "\n",
        "import nltk\n",
        "nltk.download('punkt')\n",
        "from sklearn.feature_extraction.text import TfidfVectorizer\n",
        "from sklearn.metrics.pairwise import cosine_similarity\n",
        "\n",
        "job_description = \"\"\"We are looking for a data analyst...\"\"\"\n",
        "\n",
        "resume_1 = \"\"\"B.Tech AI student with experience in Python, SQL, Pandas, and Tableau. Created dashboards and worked on small ML models.\"\"\"\n",
        "resume_2 = \"\"\"Data analyst skills in python , nlp , machine learning , cv \"\"\"\n",
        "resume_3 = \"\"\"data analyst...\"\"\"\n",
        "\n",
        "# List of documents\n",
        "documents = [job_description, resume_1, resume_2, resume_3]\n",
        "\n",
        "# TF-IDF Vectorization\n",
        "vectorizer = TfidfVectorizer()\n",
        "tfidf_matrix = vectorizer.fit_transform(documents)\n",
        "\n",
        "# Calculate cosine similarity\n",
        "cosine_sim = cosine_similarity(tfidf_matrix[0:2], tfidf_matrix[1:])\n",
        "print(\"Similarity with Resume 1:\", cosine_sim[0][0])\n",
        "print(\"Similarity with Resume 2:\", cosine_sim[0][1])\n",
        "print(\"Similarity with Resume 2:\", cosine_sim[0][2])"
      ]
    }
  ]
}